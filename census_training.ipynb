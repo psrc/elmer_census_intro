{
    "metadata": {
        "kernelspec": {
            "name": "SQL",
            "display_name": "SQL",
            "language": "sql"
        },
        "language_info": {
            "name": "sql",
            "version": ""
        }
    },
    "nbformat_minor": 2,
    "nbformat": 4,
    "cells": [
        {
            "cell_type": "markdown",
            "source": [
                "### **Prerequisits**\n",
                "\n",
                "If you haven't installed Azure Data Studio (or ADS) please do so, as it is the client application that you can use to fire SQL queries against the server. You can download it from Microsoft [here on their page](https://docs.microsoft.com/en-us/sql/azure-data-studio/download-azure-data-studio?view=sql-server-2017).\n",
                ""
            ],
            "metadata": {
                "azdata_cell_guid": "fbea0d50-35fb-4d3a-ad24-e5d46ff548b2"
            }
        },
        {
            "cell_type": "markdown",
            "source": [
                "### **PSRC's Data Wiki**\n",
                "\n",
                "Did you know PSRC's Data Department has a [Wiki](http://aws-linux/mediawiki/index.php/Main_Page) for staff to use as a reference?  You will need to be connected to the VPN in order to access it.  Once you're in, you'll find links to lots of topics, but our focus for this lesson will be on the Elmer documentation.  You can find the link under the _Data Collection And Analysis_ header under _Projects_, or just use [this direct link](http://aws-linux/mediawiki/index.php/Elmer).\n",
                "\n",
                "Near the [top of the page](http://aws-linux/mediawiki/index.php/Elmer#Elmer_Lives) you'll see a list of available datasets. We will be focusing on the [Census Summary Data](http://aws-linux/mediawiki/index.php/Elmer_Census_Summary_Data#Datasets_Available) for this lesson. That page has more technical information than we need to discuss today, but for the moment just note the _Datasets Available_ section at the top of the page, which provides an overview of the Census summary data available in Elmer.  It provides information about which Census tables are available in Elmer and at which geographies.  \n",
                "\n",
                "We haven't brough in the entirety of the Census Bureau's data into Elmer -- there's just too much there -- but we have tried to bring in the data sets that people have asked Neil about in the past.  If you see a table that you would like included, please let me know and I will import it."
            ],
            "metadata": {
                "azdata_cell_guid": "d29e5ff8-9407-42ef-9a70-1b18b91fddc4"
            }
        },
        {
            "cell_type": "markdown",
            "source": [
                "### **Connect to Elmer**\n",
                "\n",
                "\n",
                "Assuming Azure Data Studio was successfully installed, we now have to connect ADS to the _Elmer_ database.  \n",
                "1. Make sure the _Connections_ icon is selected on the far left top of ADS.  It should be just above the icon that looks like a magnifying glass.  \n",
                "1. In the Connections panel, click _SERVERS_.\n",
                "1. You should now see three icons near the top of the _Connections_ panel.  Click the _New Connection_ icon.\n",
                "1. You should now be prompted for information about the server you want to connect to.  Enter the following values:\n",
                "  * Server: AWS-PROD-SQL\\Sockeye\n",
                "  * Authentication Type: Windows Authentication\n",
                "  * Database: Elmer\n",
                "\n",
                "\n",
                "These instructions are also listed in the [connection instructions on the wiki](http://aws-linux/mediawiki/index.php/Elmer_Connection_Configuration#Connecting_via_Azure_Data_Studio). \n",
                "\n",
                ""
            ],
            "metadata": {
                "azdata_cell_guid": "a8d58ed7-75a0-442e-8075-535b129d5c13"
            }
        },
        {
            "cell_type": "markdown",
            "source": [
                "### **Some Important Points About Elmer Structure**\n",
                "\n",
                "- Elmer's Census data is stored in large and inter-related tables (essentially grids of data), but we won't be accessing those tables directly. Instead, we will access the data through functions and stored procedures which, in turn, read from the tables and present the data to us.\n",
                "- All Elmer's Census-related tables, functions and stored procedures must be prefixed with the text \"`census.`\""
            ],
            "metadata": {
                "azdata_cell_guid": "8c8d26bd-fbf8-47c5-bdab-2e001214b3e1"
            }
        },
        {
            "cell_type": "markdown",
            "source": [
                "### **The `census_table()` Function**\n",
                "\n",
                "As mentioned above, Elmer's Census data are stored in several large inter-related tables.   We as staff don't need to learn the complexities of these underlying data structures because we have several intermediaries that do the work for us.  These are essentially canned queries that we can use to retrieve the data we want in a format that we can use.  The first of these is the `census_table()` function, which is documented on the wiki [here](http://aws-linux/mediawiki/index.php/Census.census_table_(table-valued_function).\n",
                "\n",
                "In order to use the `census_table()` function we need to pass it four arguments:\n",
                "\n",
                "- **`census_year`**: This is the Census year for the data you are interested in. At this time, the most recent data is for Census year 2019.\n",
                "- **`geography_type`**: The geographic summary level at which you want to see the data. Common options are \"Tract\" and \"Block Group\" (for ACS 5-year data) and  \"County\" and \"MSA\" for ACS 1-year data.\n",
                "- **`census_product`**: Elmer currently allows only two options here: \"ACS1\" and \"ACS5\", for ACS 1-year and 5-year estimates, respectively.\n",
                "- **`census_table_code`**: The alphanumeric code for the Census table as published by the Census Bureau (e.g., \"B01002\", _Median Age By Sex_).\n",
                "\n",
                "An example call to this function, with its four arguments, would look something like this:\n",
                "\n",
                "```\n",
                "census.census_table(2019, 'County', 'acs1', 'B01002')\n",
                "```"
            ],
            "metadata": {
                "azdata_cell_guid": "827d6cbb-a1d0-4286-9c3f-b32a496a2a4c"
            }
        },
        {
            "cell_type": "markdown",
            "source": [
                "### **Use `census_table()` in a query**\n",
                "\n",
                "  \n",
                "Under the hood, the `census_table()` function queries the underlying tables and produces a dataset that we can interact with as if it were its own, static table.  And like all tables, we need to query it in order to see the data inside it.  We do this through the `SELECT` statement, which tells the database to present us with the contents of the table.  \n",
                "\n",
                "The `SELECT` clause is typically followed by a listing of exactly which columns we want returned from the table, but in our example here we use the asterisk which is short-hand for \"all the columns\":"
            ],
            "metadata": {
                "azdata_cell_guid": "8fe45ff7-dbee-45f4-8cae-e7b66d524aca"
            }
        },
        {
            "cell_type": "code",
            "source": [
                "SELECT *\r\n",
                "FROM census.census_table(2019, 'County', 'acs1', 'B01002')"
            ],
            "metadata": {
                "azdata_cell_guid": "ef7c3833-d183-4945-a8db-80e2999ad5e6"
            },
            "outputs": [],
            "execution_count": null
        },
        {
            "cell_type": "markdown",
            "source": [
                "As you can see, the function returns a table that might be different from what a lot of us are used to in working with Census data. That is, instead of a matrix with rows representing geographies and each variable existing in its own column, we have a long but narrow table with each row representing a distinct combination of variable and geography. Each of these combinations has a `estimate` and a `margin_of_error`.\n",
                "\n",
                "This table format can be useful for consumption by dashboards in Tableau and other similar products, though it might not be the best for other uses like joining to shapefiles (we'll get to a better option for those in a bit).\n",
                "\n",
                "The `census_table()` function always produces a table with these nine columns, regardless of how many variables there are the the Census table. For example, running it against the Census's Data Profile tables, which can contain hundreds of variables, result in a nine-column `census_table` with many hundred rows.\n",
                ""
            ],
            "metadata": {
                "azdata_cell_guid": "62e90ce7-47fe-4b5e-b5f2-9f418509a049"
            }
        },
        {
            "cell_type": "markdown",
            "source": [
                "### **SELECT Specific Columns**\r\n",
                "\r\n",
                "What if we don't want all nine columns returned to us?  Instead of using the asterisk, we can just list the column names we want:"
            ],
            "metadata": {
                "azdata_cell_guid": "58080a29-cd83-4457-8080-315b281105d7"
            }
        },
        {
            "cell_type": "code",
            "source": [
                "SELECT variable_name, variable_label, geography_name, estimate\r\n",
                "FROM census.census_table(2019, 'County', 'acs1', 'B01002')"
            ],
            "metadata": {
                "azdata_cell_guid": "9606205c-1e70-41dc-a577-86d6db323675",
                "tags": []
            },
            "outputs": [],
            "execution_count": null
        },
        {
            "cell_type": "markdown",
            "source": [
                "### **Filtering With WHERE**\n",
                "\n",
                "What if we were interested in just the jurisdictions in Kitsap County?  We can limit the rows that the query returns with a **`WHERE`** clause:"
            ],
            "metadata": {
                "azdata_cell_guid": "7b8541a6-0505-4d27-8e10-ec1c4a32e625"
            }
        },
        {
            "cell_type": "code",
            "source": [
                "SELECT variable_name, variable_label, geography_name, estimate\n",
                "FROM census.census_table(2019, 'County', 'acs1', 'B01002')\n",
                "WHERE variable_name = 'B01002_001'"
            ],
            "metadata": {
                "azdata_cell_guid": "ab45d446-8af9-447d-920b-36ae912e6cd0"
            },
            "outputs": [],
            "execution_count": null
        },
        {
            "cell_type": "markdown",
            "source": [
                "### **Sorting with ORDER BY**\r\n",
                "\r\n",
                "We can use an ORDER BY clause to order our results"
            ],
            "metadata": {
                "azdata_cell_guid": "320b1906-df1f-4106-acd4-950a76a1d507"
            }
        },
        {
            "cell_type": "code",
            "source": [
                "SELECT variable_name, variable_label, geography_name, estimate\r\n",
                "FROM census.census_table(2019, 'County', 'acs1', 'B01002')\r\n",
                "WHERE variable_name = 'B01002_001'\r\n",
                "ORDER BY geography_name"
            ],
            "metadata": {
                "azdata_cell_guid": "eee577f7-4c58-4d13-92bc-2e884ad4d512"
            },
            "outputs": [],
            "execution_count": null
        },
        {
            "cell_type": "markdown",
            "source": [
                "Now we have a result set with one row per county, with each _estimate_ displaying the meadian age for the total population.  \n",
                "\n",
                "### **The `census_table_pivoted` Stored Procedure**\n",
                "\n",
                "But what if we want all the variables for the Census table, but want them in their own columns? That is, can we do something akin to making a pivot table in Excel, so that each variable gets its own column?  We can do that, but the syntax is a bit different.  Instead of running a query with our handy SELECT statement, we need to run a _stored procedure_ called `census_table_pivoted`. This is essentially a small program that can be executed within SQL Server.  We don't have to wrap it in a `SELECT` query, but the downside of that is that we can't select only specific columns, can't filter the results with the `WHERE` clause, and can't sort them with the `ORDER BY` clause.  \n",
                "\n",
                "\n",
                "\n",
                "As with the `census_table()` function, this stored procedure requires us to give it the same four argements `@census_year`, `@geography_type`, `@census_product` and `@census_table_code`. Unlike the function, the stored procedure does not require those to be enclosed within parentheses. We can run it by prefacing it with the **EXECUTE** command:"
            ],
            "metadata": {
                "azdata_cell_guid": "e361f013-c31a-43cc-96bc-c9da07ea1168"
            }
        },
        {
            "cell_type": "code",
            "source": [
                "EXECUTE census.census_table_pivoted 2019, 'County', 'ACS1', 'B01002'"
            ],
            "metadata": {
                "azdata_cell_guid": "00da9c5e-abdc-4e40-83b7-7b91b18c3a70"
            },
            "outputs": [],
            "execution_count": null
        },
        {
            "cell_type": "markdown",
            "source": [
                "As you can see, we get one row per geographical entity, with each variable represented as a distinct column.\n",
                "\n",
                "### **Get More Informative Column Names with `@decode_col_names`**\n",
                "\n",
                "By default, the column names that the stored procedure returns are the full English-language labels for the variables.  This might not be what you want, so it's possible to turn the labels off by passing in an additional optional argument **`@decode_col_names`** after the `@census_table_code`.  By setting this to 0 instead of 1 (which is the default) the variable headers will be displayed as the Census variable name (i.e., the codes) instead of the labels:"
            ],
            "metadata": {
                "azdata_cell_guid": "71e34acb-0736-4c77-9a88-83d760c6068d"
            }
        },
        {
            "cell_type": "code",
            "source": [
                "EXECUTE census.census_table_pivoted 2019, 'County', 'ACS1', 'B01002', @decode_col_names = 0"
            ],
            "metadata": {
                "azdata_cell_guid": "e47192f5-32ba-47f4-a217-4cec894ffdc1"
            },
            "outputs": [],
            "execution_count": null
        },
        {
            "cell_type": "markdown",
            "source": [
                "### **Add Margins of Error with `@include_moe`**\n",
                "\n",
                "The margin of errors for each estimate can be displayed by passing in the optional argument **`@include_moe`**.  The default value (0) causes just the estimates to be displayed, but if we set this argument to 1 then we get the margins of error just to the right of each estimate:"
            ],
            "metadata": {
                "azdata_cell_guid": "a7e11e7f-6c2d-4fed-bfe9-cf75b217be95"
            }
        },
        {
            "cell_type": "code",
            "source": [
                "EXECUTE census.census_table_pivoted 2019, 'County', 'ACS1', 'B01002', @include_moe = 1"
            ],
            "metadata": {
                "azdata_cell_guid": "54fe9b4d-e491-4252-a406-ecaffb3c7838"
            },
            "outputs": [],
            "execution_count": null
        }
    ]
}